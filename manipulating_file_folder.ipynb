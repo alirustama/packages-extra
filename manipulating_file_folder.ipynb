{
  "nbformat": 4,
  "nbformat_minor": 0,
  "metadata": {
    "colab": {
      "name": "manipulating_file/folder.ipynb",
      "provenance": [],
      "authorship_tag": "ABX9TyNGEUxHsam9w5Yr5+fQYPEp",
      "include_colab_link": true
    },
    "kernelspec": {
      "name": "python3",
      "display_name": "Python 3"
    }
  },
  "cells": [
    {
      "cell_type": "markdown",
      "metadata": {
        "id": "view-in-github",
        "colab_type": "text"
      },
      "source": [
        "<a href=\"https://colab.research.google.com/github/alirustama/packages-extra/blob/master/manipulating_file_folder.ipynb\" target=\"_parent\"><img src=\"https://colab.research.google.com/assets/colab-badge.svg\" alt=\"Open In Colab\"/></a>"
      ]
    },
    {
      "cell_type": "code",
      "metadata": {
        "id": "iYQjnk-0Gslf",
        "colab_type": "code",
        "colab": {
          "base_uri": "https://localhost:8080/",
          "height": 265
        },
        "outputId": "82b91503-0613-423c-e999-6ed9afaadb69"
      },
      "source": [
        "#create a file\n",
        "\"\"\"\n",
        "steps->\n",
        "\t#open a file\n",
        "\n",
        "\t#give name+extension\n",
        "\t#click enter \"\"\"\n",
        "\n",
        "fo=open(\"D:\\\\exm.txt\",'w')\n",
        "fo.write(\"Hello!!!\")\n",
        "\n",
        "#to write multiple lines\n",
        "# create a list of item.\n",
        "line_list=[\"How are you? \\n\",\"How is the weather there? \\n\"]\n",
        "fo.writelines(line_list)\n",
        "\n",
        "#update a file\n",
        "\"\"\"\n",
        "steps->\n",
        "\tTo update a file, we use same steps\n",
        "\tbut open the file in appned mode. \"\"\"\n",
        "\n",
        "fo=open(\"D:\\\\exm.txt\",'a')\n",
        "fo.write(\"Hello all. Welcome to ISB.\")\n",
        "\n",
        "#to update with multiple lines\n",
        "# create a list of item.\n",
        "line_list=[\"It is really hot in Kolkata.\\n\",\"BTW how is your preparation for ISB going on\\n\",\"Are you attending the warm up session?\\n\"]\n",
        "fo.writelines(line_list)\n",
        "\n",
        "# use case1\n",
        "# one file has data for starting 15 days of a month\n",
        "# other file has data for next 15 days of a month\n",
        "# you want to update the data in the older file.\n",
        "\n",
        "#open the first file in append mode\n",
        "ff=open(\"D:\\\\example.txt\",'a')\n",
        "\n",
        "#open the second file in read mode\n",
        "sf=open(\"D:\\\\exm.txt\",'r')\n",
        "#read data from second file\n",
        "info=sf.read()\n",
        "##append the info data in the first file\n",
        "ff.write(info)\n",
        "#close both the files\n",
        "ff.close()\n",
        "sf.close()\n",
        "\n",
        "# moving a file\n",
        "#steps->\n",
        "\t# change the location of a file.\n",
        "\n",
        "#importing useful libray\n",
        "import os\n",
        "import shutil\n",
        "# new directory formation-> os.mkdir(\"new_directiry_path\")\n",
        "os.mkdir(\"/home/spyrustam/Desktop/Smartbrain Contest/ManiPulating FIle\")\n",
        "shutil.move(\"/home/spyrustam/Desktop/Smartbrain Contest/Project _1\",\"/home/spyrustam/Desktop/Smartbrain Contest/\")\n",
        "\n",
        "\n",
        "\n",
        "#to copy a file or folder\n",
        "shutil.copy(\"D:\\\\4th Semester Result.pdf\",\"/content/D:\\Mani\\4th Semester Result.pdf\")\n",
        "\n",
        "# to copy multiple files.\n",
        "#steps\n",
        "\t# for every file , copy it.\n",
        "\n",
        "file_list=[\"D:\\\\4th Semester Result.pdf\",\"D:\\\\5th Semester Result.pdf\",\"D:\\\\6th Semester Result.pdf\"]\n",
        "for file in file_list:\n",
        "\tshutil.copy(file,\"D:\\\\Mani\\\\\")\n",
        "\n",
        "# to rename a file\n",
        "#steps-> \n",
        "\t# change the location from old to new\n",
        "\n",
        "os.rename(\"D:\\\\1st Sem_res.jpeg\",\"D:\\\\1st Semester Result.jpeg\")\n",
        "\n",
        "\n",
        "# use case 2\n",
        "# for 2nd Sem_res.jpeg and 3rd Sem_res.jpeg rename it to 2nd Semester Result.jpeg & 3rd Semester Result.jpeg\n",
        "# we need to make\n",
        "\t# Sem_res.jpeg->  Semester Result.jpeg\n",
        "# that means we need to makeD:\\\\Mani\\\\\n",
        "\t# D:\\\\2nd Sem_res.jpeg->D:\\\\2nd Semester Result.jpeg\n",
        "\n",
        "#creating a list of the files\n",
        "re_files=[\"D:\\\\2nd Sem_res.jpeg\",\"D:\\\\3rd Sem_res.jpeg\"]\n",
        "for i in re_files:\n",
        "\tj=i.split(\" \")#splitting across a space\n",
        "\tnew_path=j[0]+' Semester Result.jpeg' # concatenating to get the new path\n",
        "\t#print(new_path)\n",
        "\tos.rename(i,new_path)#renaming\n",
        "\n",
        "#to delete a file\n",
        "#steps->\n",
        "\t#make the location available.\n",
        "os.remove(\"/content/D:\\Mani\\ABC\")"
      ],
      "execution_count": 6,
      "outputs": [
        {
          "output_type": "error",
          "ename": "FileNotFoundError",
          "evalue": "ignored",
          "traceback": [
            "\u001b[0;31m---------------------------------------------------------------------------\u001b[0m",
            "\u001b[0;31mFileNotFoundError\u001b[0m                         Traceback (most recent call last)",
            "\u001b[0;32m<ipython-input-6-6204dd5be7ac>\u001b[0m in \u001b[0;36m<module>\u001b[0;34m()\u001b[0m\n\u001b[1;32m     55\u001b[0m \u001b[0;32mimport\u001b[0m \u001b[0mshutil\u001b[0m\u001b[0;34m\u001b[0m\u001b[0;34m\u001b[0m\u001b[0m\n\u001b[1;32m     56\u001b[0m \u001b[0;31m# new directory formation-> os.mkdir(\"new_directiry_path\")\u001b[0m\u001b[0;34m\u001b[0m\u001b[0;34m\u001b[0m\u001b[0;34m\u001b[0m\u001b[0m\n\u001b[0;32m---> 57\u001b[0;31m \u001b[0mos\u001b[0m\u001b[0;34m.\u001b[0m\u001b[0mmkdir\u001b[0m\u001b[0;34m(\u001b[0m\u001b[0;34m\"/home/spyrustam/Desktop/Smartbrain Contest/ManiPulating FIle\"\u001b[0m\u001b[0;34m)\u001b[0m\u001b[0;34m\u001b[0m\u001b[0;34m\u001b[0m\u001b[0m\n\u001b[0m\u001b[1;32m     58\u001b[0m \u001b[0mshutil\u001b[0m\u001b[0;34m.\u001b[0m\u001b[0mmove\u001b[0m\u001b[0;34m(\u001b[0m\u001b[0;34m\"/home/spyrustam/Desktop/Smartbrain Contest/Project _1\"\u001b[0m\u001b[0;34m,\u001b[0m\u001b[0;34m\"/home/spyrustam/Desktop/Smartbrain Contest/\"\u001b[0m\u001b[0;34m)\u001b[0m\u001b[0;34m\u001b[0m\u001b[0;34m\u001b[0m\u001b[0m\n\u001b[1;32m     59\u001b[0m \u001b[0;34m\u001b[0m\u001b[0m\n",
            "\u001b[0;31mFileNotFoundError\u001b[0m: [Errno 2] No such file or directory: '/home/spyrustam/Desktop/Smartbrain Contest/ManiPulating FIle'"
          ]
        }
      ]
    }
  ]
}